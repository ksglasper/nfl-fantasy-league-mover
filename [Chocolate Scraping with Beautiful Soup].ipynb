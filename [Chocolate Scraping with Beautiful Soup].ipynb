{
 "cells": [
  {
   "cell_type": "markdown",
   "metadata": {},
   "source": [
    "# Chocolate Scraping with Beautiful Soup"
   ]
  },
  {
   "cell_type": "markdown",
   "metadata": {},
   "source": [
    "After eating chocolate bars your whole life, you've decided to go on a quest to find the greatest chocolate bar in the world.\n",
    "\n",
    "You've found a website that has over 1700 reviews of chocolate bars from all around the world. It's linked below the text for the first task.\n",
    "\n",
    "The data is displayed in a table, instead of in a `csv` or `json`. Thankfully, we have the power of BeautifulSoup that will help us transform this webpage into a DataFrame that we can manipulate and analyze.\n",
    "\n",
    "The rating scale is from 1-5, as described in <a href=\"http://flavorsofcacao.com/review_guide.html\">this review guide</a>. A `1` is \"unpleasant\" chocolate, while a `5` is a bar that transcends \"beyond the ordinary limits\".\n",
    "\n",
    "Some questions we thought about when we found this dataset were:\n",
    " - Where are the best cocao beans grown?\n",
    " - Which countries produce the highest-rated bars?\n",
    " - What's the relationship between cocao solids percentage and rating?\n",
    " \n",
    "Can we find a way to answer these questions, or uncover more questions, using BeautifulSoup and Pandas?"
   ]
  },
  {
   "cell_type": "markdown",
   "metadata": {},
   "source": [
    "## Make Some Chocolate Soup"
   ]
  },
  {
   "cell_type": "markdown",
   "metadata": {},
   "source": [
    "1. Explore the webpage displayed in the browser. What elements could be useful to scrape here? Which elements do we _not_ want to scrape?"
   ]
  },
  {
   "cell_type": "markdown",
   "metadata": {},
   "source": [
    "https://content.codecademy.com/courses/beautifulsoup/cacao/index.html"
   ]
  },
  {
   "cell_type": "markdown",
   "metadata": {},
   "source": [
    "List of Tags to Include:\n"
   ]
  },
  {
   "cell_type": "markdown",
   "metadata": {},
   "source": [
    "List of Tags to Exclude:"
   ]
  },
  {
   "cell_type": "markdown",
   "metadata": {},
   "source": [
    "2. Let's make a request to this site to get the raw HTML, which we can later turn into a BeautifulSoup object.\n",
    "\n",
    "   The URL is\n",
    "\n",
    "```\n",
    "https://content.codecademy.com/courses/beautifulsoup/cacao/index.html\n",
    "```\n",
    "   \n",
    "   You can pass this into the `.get()` method of the `requests` module to get the HTML."
   ]
  },
  {
   "cell_type": "markdown",
   "metadata": {},
   "source": [
    "3. Create a BeautifulSoup object called `soup` to traverse this HTML.\n",
    "\n",
    "   Use `\"html.parser\"` as the parser, and the content of the response you got from your request as the document."
   ]
  },
  {
   "cell_type": "code",
   "execution_count": 2,
   "metadata": {},
   "outputs": [],
   "source": [
    "import requests\n",
    "import pandas as pd\n",
    "import numpy as np\n",
    "from bs4 import BeautifulSoup\n",
    "import matplotlib.pyplot as plt"
   ]
  },
  {
   "cell_type": "markdown",
   "metadata": {},
   "source": [
    "4. If you want, print out the `soup` object to explore the HTML.\n",
    "\n",
    "   So many table rows! You're probably very relieved that we don't have to scrape this information by hand."
   ]
  },
  {
   "cell_type": "code",
   "execution_count": null,
   "metadata": {},
   "outputs": [],
   "source": []
  },
  {
   "cell_type": "markdown",
   "metadata": {},
   "source": [
    "## How are ratings distributed?"
   ]
  },
  {
   "cell_type": "markdown",
   "metadata": {},
   "source": [
    "5. How many terrible chocolate bars are out there? And how many earned a perfect 5? Let's make a histogram of this data.\n",
    "\n",
    "   The first thing to do is to put all of the ratings into a list.\n",
    "   \n",
    "   Use a command on the `soup` object to get all of the tags that contain the ratings."
   ]
  },
  {
   "cell_type": "code",
   "execution_count": null,
   "metadata": {},
   "outputs": [],
   "source": []
  },
  {
   "cell_type": "markdown",
   "metadata": {},
   "source": [
    "6. Create an empty list called `ratings` to store all the ratings in."
   ]
  },
  {
   "cell_type": "code",
   "execution_count": null,
   "metadata": {},
   "outputs": [],
   "source": []
  },
  {
   "cell_type": "markdown",
   "metadata": {},
   "source": [
    "7. Loop through the ratings tags and get the text contained in each one. Add it to the ratings list.\n",
    "\n",
    "   As you do this, convert the rating to a float, so that the ratings list will be numerical. This should help with calculations later."
   ]
  },
  {
   "cell_type": "code",
   "execution_count": null,
   "metadata": {},
   "outputs": [],
   "source": []
  },
  {
   "cell_type": "markdown",
   "metadata": {},
   "source": [
    "8. Using Matplotlib, create a histogram of the ratings values:\n",
    "\n",
    "```py\n",
    "plt.hist(ratings)\n",
    "```\n",
    "\n",
    "   Remember to show the plot using `plt.show()`!"
   ]
  },
  {
   "cell_type": "code",
   "execution_count": 3,
   "metadata": {},
   "outputs": [
    {
     "data": {
      "image/png": "[encoded data removed]",
      "text/plain": [
       "<Figure size 640x480 with 1 Axes>"
      ]
     },
     "metadata": {},
     "output_type": "display_data"
    }
   ],
   "source": [
    "prefix = \"https://content.codecademy.com/courses/beautifulsoup/\"\n",
    "webpage_response = requests.get('https://content.codecademy.com/courses/beautifulsoup/cacao/index.html')\n",
    "\n",
    "webpage = webpage_response.content\n",
    "soup = BeautifulSoup(webpage, \"html.parser\")\n",
    "\n",
    "# print(soup)\n",
    "chocolate_ratings = soup.find_all(attrs={\"class\": \"Rating\"})\n",
    "\n",
    "ratings = []\n",
    "\n",
    "for rating in chocolate_ratings:\n",
    "    if(rating.get_text() == 'Rating'):\n",
    "        continue\n",
    "    ratings.append(float(rating.get_text()))\n",
    "\n",
    "\n",
    "# print(ratings)\n",
    "    \n",
    "plt.hist(ratings)\n",
    "plt.show()\n"
   ]
  },
  {
   "cell_type": "markdown",
   "metadata": {},
   "source": [
    "## Which chocolatier makes the best chocolate?"
   ]
  },
  {
   "cell_type": "markdown",
   "metadata": {},
   "source": [
    "9. We want to now find the 10 most highly rated chocolatiers. One way to do this is to make a DataFrame that has the chocolate companies in one column, and the ratings in another. Then, we can do a `groupby` to find the ones with the highest average rating.\n",
    "\n",
    "   First, let's find all tags on the webpage that contain the company names."
   ]
  },
  {
   "cell_type": "code",
   "execution_count": null,
   "metadata": {},
   "outputs": [],
   "source": []
  },
  {
   "cell_type": "markdown",
   "metadata": {},
   "source": [
    "10. Just like we did with ratings, we now want to make an empty list to hold company names."
   ]
  },
  {
   "cell_type": "code",
   "execution_count": null,
   "metadata": {},
   "outputs": [],
   "source": []
  },
  {
   "cell_type": "markdown",
   "metadata": {},
   "source": [
    "11. Loop through the tags containing the company names, and add the text from each tag to the list you just created."
   ]
  },
  {
   "cell_type": "code",
   "execution_count": null,
   "metadata": {},
   "outputs": [],
   "source": []
  },
  {
   "cell_type": "markdown",
   "metadata": {},
   "source": [
    "12. Create a DataFrame with a column \"Company\" corresponding to your companies list, and a column \"Ratings\" corresponding to your ratings list."
   ]
  },
  {
   "cell_type": "code",
   "execution_count": null,
   "metadata": {},
   "outputs": [],
   "source": []
  },
  {
   "cell_type": "markdown",
   "metadata": {},
   "source": [
    "13. Use `.grouby` to group your DataFrame by Company and take the average of the grouped ratings.\n",
    "\n",
    "    Then, use the `.nlargest` command to get the 10 highest rated chocolate companies. Print them out.\n",
    "    \n",
    "    Look at the hint if you get stuck on this step!"
   ]
  },
  {
   "cell_type": "code",
   "execution_count": null,
   "metadata": {},
   "outputs": [],
   "source": []
  },
  {
   "cell_type": "markdown",
   "metadata": {},
   "source": [
    "## Is more cacao better?"
   ]
  },
  {
   "cell_type": "markdown",
   "metadata": {},
   "source": [
    "14. We want to see if the chocolate experts tend to rate chocolate bars with higher levels of cacoa to be better than those with lower levels of cacoa.\n",
    "\n",
    "    It looks like the cocoa percentages are in the table under the Cocoa Percent column (note we are looking at cocoa not cocao!)\n",
    "    \n",
    "    Using the same methods you used in the last couple of tasks, create a list that contains all of the cocoa percentages. Store each percent as a float, after stripping off the `%` character."
   ]
  },
  {
   "cell_type": "code",
   "execution_count": null,
   "metadata": {},
   "outputs": [],
   "source": []
  },
  {
   "cell_type": "markdown",
   "metadata": {},
   "source": [
    "15. Add the cocoa percentages as a column called `\"CocoaPercentage\"` in the DataFrame that has companies and ratings in it."
   ]
  },
  {
   "cell_type": "code",
   "execution_count": null,
   "metadata": {},
   "outputs": [],
   "source": []
  },
  {
   "cell_type": "markdown",
   "metadata": {},
   "source": [
    "16. Make a scatterplot of ratings (`your_df.Rating`) vs percentage of cocoa (`your_df.CocoaPercentage`).\n",
    "\n",
    "    You can do this in Matplotlib with these commands:\n",
    "    \n",
    "```py\n",
    "plt.scatter(df.CocoaPercentage, df.Rating)\n",
    "plt.show()\n",
    "```\n",
    "\n",
    "Call `plt.clf()` to clear the figure between showing your histogram and this scatterplot."
   ]
  },
  {
   "cell_type": "code",
   "execution_count": null,
   "metadata": {},
   "outputs": [],
   "source": []
  },
  {
   "cell_type": "markdown",
   "metadata": {},
   "source": [
    "17. Is there any correlation here? We can use some numpy commands to draw a line of best-fit over the scatterplot.\n",
    "\n",
    "    Copy this code and paste it after you create the scatterplot, but before you call `.show()`:\n",
    "    \n",
    "```py\n",
    "z = np.polyfit(df.CocoaPercentage, df.Rating, 1)\n",
    "line_function = np.poly1d(z)\n",
    "plt.plot(df.CocoaPercentage, line_function(df.CocoaPercentage), \"r-\")\n",
    "```"
   ]
  },
  {
   "cell_type": "code",
   "execution_count": null,
   "metadata": {},
   "outputs": [],
   "source": []
  },
  {
   "cell_type": "markdown",
   "metadata": {},
   "source": [
    "## Explore!"
   ]
  },
  {
   "cell_type": "markdown",
   "metadata": {},
   "source": [
    "18. We have explored a couple of the questions about chocolate that inspired us when we looked at this chocolate table.\n",
    "\n",
    "    What other kinds of questions can you answer here? Try to use a combination of BeautifulSoup and Pandas to explore some more.\n",
    "    \n",
    "    For inspiration: Where are the best cocoa beans grown? Which countries produce the highest-rated bars?"
   ]
  },
  {
   "cell_type": "code",
   "execution_count": null,
   "metadata": {},
   "outputs": [],
   "source": []
  }
 ],
 "metadata": {
  "kernelspec": {
   "display_name": "Python 3 (ipykernel)",
   "language": "python",
   "name": "python3"
  },
  "language_info": {
   "codemirror_mode": {
    "name": "ipython",
    "version": 3
   },
   "file_extension": ".py",
   "mimetype": "text/x-python",
   "name": "python",
   "nbconvert_exporter": "python",
   "pygments_lexer": "ipython3",
   "version": "3.11.7"
  }
 },
 "nbformat": 4,
 "nbformat_minor": 4
}
