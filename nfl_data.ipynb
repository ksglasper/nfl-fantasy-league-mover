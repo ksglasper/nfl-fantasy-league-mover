{
 "cells": [
  {
   "cell_type": "code",
   "execution_count": null,
   "metadata": {},
   "outputs": [
    {
     "ename": "",
     "evalue": "",
     "output_type": "error",
     "traceback": [
      "\u001b[1;31mThe kernel failed to start as 'filefind' could not be imported from '/usr/lib/python3/dist-packages/traitlets/utils/__init__.py'.\n",
      "\u001b[1;31mClick <a href='https://aka.ms/kernelFailuresModuleImportErrFromFile'>here</a> for more info."
     ]
    }
   ],
   "source": [
    "import requests\n",
    "import pandas as pd\n",
    "import numpy as np\n",
    "from bs4 import BeautifulSoup\n",
    "\n",
    "prefix = \"https://content.codecademy.com/courses/beautifulsoup/\"\n",
    "webpage_response = requests.get('https://content.codecademy.com/courses/beautifulsoup/shellter.html')\n",
    "\n",
    "webpage = webpage_response.content\n",
    "soup = BeautifulSoup(webpage, \"html.parser\")\n",
    "\n",
    "turtle_links = soup.find_all(\"a\")\n",
    "links = []\n",
    "#go through all of the a tags and get the links associated with them\"\n",
    "for a in turtle_links:\n",
    "  links.append(prefix+a[\"href\"])\n",
    "    \n",
    "#Define turtle_data:\n",
    "turtle_data = {}\n",
    "\n",
    "#follow each link:\n",
    "for link in links:\n",
    "  webpage = requests.get(link)\n",
    "  turtle = BeautifulSoup(webpage.content, \"html.parser\")\n",
    "  turtle_name = turtle.select(\".name\")[0].get_text()\n",
    "  \n",
    "  stats = turtle.find(\"ul\")\n",
    "  appendList = [info for info in turtle.find(\"ul\").get_text('|').split('|') if info != '\\n']\n",
    "  test = [ i for i in turtle.find(\"ul\").get_text(\"|\").split('|') if i != '\\n']\n",
    "  # print(appendList)\n",
    "  # stats_text = [i in stats.get_text(\"|\")]\n",
    "  # print(stats_text)\n",
    "  # appendList = info for info in stats_text if info != '\\n'\n",
    "  turtle_data[turtle_name] = appendList\n",
    "# print(turtle_data)\n",
    "  \n",
    "\n",
    "turtle_df = pd.DataFrame.from_dict(turtle_data, orient='index')\n",
    "# turtle_df.drop(columns=1)\n",
    "final_turtle_df = turtle_df.rename(columns={\"0\": \"Age\"})\n",
    "\n",
    "print(final_turtle_df)\n"
   ]
  }
 ],
 "metadata": {
  "kernelspec": {
   "display_name": "Python 3",
   "language": "python",
   "name": "python3"
  },
  "language_info": {
   "name": "python",
   "version": "3.11.5"
  }
 },
 "nbformat": 4,
 "nbformat_minor": 2
}
